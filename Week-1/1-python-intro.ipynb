{
 "cells": [
  {
   "cell_type": "markdown",
   "metadata": {},
   "source": [
    "> ##### 26.11.2023 Python Dersi "
   ]
  },
  {
   "cell_type": "markdown",
   "metadata": {},
   "source": [
    "### Variables"
   ]
  },
  {
   "cell_type": "code",
   "execution_count": 1,
   "metadata": {},
   "outputs": [
    {
     "data": {
      "text/plain": [
       "' Snake case: kelimeleri _ ile ayırır ve küçük harflerle yazar.'"
      ]
     },
     "execution_count": 1,
     "metadata": {},
     "output_type": "execute_result"
    }
   ],
   "source": [
    "first_variable = 30\n",
    "\"\"\" \n",
    "Python'da değişken isimleri Snake Case şeklinde yazılır.\n",
    "Snake case: kelimeleri _ ile ayırır ve küçük harflerle yazar.\"\"\""
   ]
  },
  {
   "cell_type": "code",
   "execution_count": 2,
   "metadata": {},
   "outputs": [
    {
     "name": "stdout",
     "output_type": "stream",
     "text": [
      "<class 'int'>\n"
     ]
    }
   ],
   "source": [
    "print(type(first_variable)) # tipini yazdırır"
   ]
  },
  {
   "cell_type": "code",
   "execution_count": 3,
   "metadata": {},
   "outputs": [
    {
     "name": "stdout",
     "output_type": "stream",
     "text": [
      "30\n"
     ]
    }
   ],
   "source": [
    "print(first_variable) # değişkeni yazdırır"
   ]
  },
  {
   "cell_type": "code",
   "execution_count": 4,
   "metadata": {},
   "outputs": [],
   "source": [
    "first_variable = \"Ada Lovalace Akademi\" # değişkene farklı bir ifade atayabiliriz"
   ]
  },
  {
   "cell_type": "code",
   "execution_count": 5,
   "metadata": {},
   "outputs": [
    {
     "name": "stdout",
     "output_type": "stream",
     "text": [
      "Ada Lovalace Akademi\n"
     ]
    }
   ],
   "source": [
    "print(first_variable)"
   ]
  },
  {
   "cell_type": "markdown",
   "metadata": {},
   "source": [
    "#### Counter"
   ]
  },
  {
   "cell_type": "code",
   "execution_count": 7,
   "metadata": {},
   "outputs": [
    {
     "name": "stdout",
     "output_type": "stream",
     "text": [
      "<class 'collections.Counter'>\n"
     ]
    }
   ],
   "source": [
    "import collections\n",
    "first_variable = collections.Counter([1,1,2,2,3,4,4,4]) # verilen veriyi count eder\n",
    "print(type(first_variable))"
   ]
  },
  {
   "cell_type": "code",
   "execution_count": 8,
   "metadata": {},
   "outputs": [
    {
     "name": "stdout",
     "output_type": "stream",
     "text": [
      "Counter({4: 3, 1: 2, 2: 2, 3: 1})\n"
     ]
    }
   ],
   "source": [
    "print(first_variable) # bir dictionary döndürür. Her elemandan kaçar tane var olduğunu verir"
   ]
  },
  {
   "cell_type": "markdown",
   "metadata": {},
   "source": [
    "#### Constant"
   ]
  },
  {
   "cell_type": "code",
   "execution_count": null,
   "metadata": {},
   "outputs": [],
   "source": [
    "MY_CONSTANT = 15 # importlardan sonra büyük harflerle yazılır. Değişmeyecek değerler için kullanılır.\n",
    "# Global değerleri atamak için kullanılır. "
   ]
  },
  {
   "cell_type": "markdown",
   "metadata": {},
   "source": [
    "### Functions"
   ]
  },
  {
   "cell_type": "code",
   "execution_count": 12,
   "metadata": {},
   "outputs": [],
   "source": [
    "def add_two_number(number_one, number_two): # AddTwoNumber: Bu şekilde pythonic olmuyor. Tercih etme!!\n",
    "    \"\"\"\n",
    "    parameters: number_one, number_two\n",
    "    \"\"\"\n",
    "    total = number_one + number_two\n",
    "    print(total)"
   ]
  },
  {
   "cell_type": "code",
   "execution_count": 13,
   "metadata": {},
   "outputs": [
    {
     "name": "stdout",
     "output_type": "stream",
     "text": [
      "9\n"
     ]
    }
   ],
   "source": [
    "add_two_number(5, 4) # fonksiyonu çağırıyoruz"
   ]
  },
  {
   "cell_type": "code",
   "execution_count": null,
   "metadata": {},
   "outputs": [],
   "source": [
    "def add_two_number(number_one, number_two): # AddTwoNumber: Bu şekilde pythonic olmuyor. Tercih etme!!\n",
    "    total = number_one + number_two\n",
    "    return total # elde edilen değeri döndürür"
   ]
  },
  {
   "cell_type": "code",
   "execution_count": 14,
   "metadata": {},
   "outputs": [
    {
     "name": "stdout",
     "output_type": "stream",
     "text": [
      "None\n"
     ]
    }
   ],
   "source": [
    "def add_two_number(number_one, number_two): # AddTwoNumber: Bu şekilde pythonic olmuyor. Tercih etme!!\n",
    "    total = number_one + number_two\n",
    "\n",
    "print(add_two_number(3,7))"
   ]
  },
  {
   "cell_type": "markdown",
   "metadata": {},
   "source": [
    "* _Metodlar_, classların içerisine yazılan fonksiyonlardır."
   ]
  },
  {
   "cell_type": "code",
   "execution_count": 15,
   "metadata": {},
   "outputs": [
    {
     "name": "stdout",
     "output_type": "stream",
     "text": [
      "<class 'str'>\n"
     ]
    }
   ],
   "source": [
    "text = \"Ada Lovelace Academy\" # Python'da stringler unicode'dur. \n",
    "print(type(text))"
   ]
  },
  {
   "cell_type": "code",
   "execution_count": 17,
   "metadata": {},
   "outputs": [
    {
     "data": {
      "text/plain": [
       "'ADA LOVELACE ACADEMY'"
      ]
     },
     "execution_count": 17,
     "metadata": {},
     "output_type": "execute_result"
    }
   ],
   "source": [
    "str.upper(text) # . ile class'ın metodlarına ulaşabiliriz"
   ]
  },
  {
   "cell_type": "code",
   "execution_count": 20,
   "metadata": {},
   "outputs": [
    {
     "data": {
      "text/plain": [
       "16.0"
      ]
     },
     "execution_count": 20,
     "metadata": {},
     "output_type": "execute_result"
    }
   ],
   "source": [
    "import math\n",
    "math.pow(2,4)"
   ]
  },
  {
   "cell_type": "code",
   "execution_count": null,
   "metadata": {},
   "outputs": [],
   "source": [
    "# this is a comment\n",
    "example_string =  \"This is a comment\" # buraya da yorum yazılabilir. # variable definition\n",
    "# Hatırlatıcı, yönerge, yorum için kullanılır.\n",
    "\n",
    "# bu 3 satır\n",
    "# yorum satırı\n",
    "# oldu\n",
    "\n",
    "# Bunun yerine \n",
    "\n",
    "\"\"\" \n",
    "67575\n",
    "Bu şekilde bir comment ekleyebiliriz.\n",
    "232423\n",
    "\"\"\""
   ]
  },
  {
   "cell_type": "markdown",
   "metadata": {},
   "source": [
    "> terminale import this yazarsan The Zen of Python'a ulaşırsın."
   ]
  },
  {
   "cell_type": "markdown",
   "metadata": {},
   "source": [
    "### Docstring"
   ]
  },
  {
   "cell_type": "code",
   "execution_count": 23,
   "metadata": {},
   "outputs": [],
   "source": [
    "def my_pow(number_one, number_two):\n",
    "    \"\"\"\n",
    "    Raise a number to a arbitrary power.\n",
    "    \n",
    "    :param number_one: int base number\n",
    "    :param number_two: int power to raise\n",
    "    :return: int - number raised to power of second number\n",
    "    \"\"\"\n",
    "    result = number_one ** number_two\n",
    "    return result"
   ]
  },
  {
   "cell_type": "code",
   "execution_count": 24,
   "metadata": {},
   "outputs": [
    {
     "name": "stdout",
     "output_type": "stream",
     "text": [
      "\n",
      "    Raise a number to a arbitrary power.\n",
      "    \n",
      "    :param number_one: int base number\n",
      "    :param number_two: int power to raise\n",
      "    :return: int - number raised to power of second number\n",
      "    \n"
     ]
    }
   ],
   "source": [
    "print(my_pow.__doc__) # dokumantasyona direkt ulaşabilmek için "
   ]
  },
  {
   "cell_type": "code",
   "execution_count": 25,
   "metadata": {},
   "outputs": [
    {
     "name": "stdout",
     "output_type": "stream",
     "text": [
      "str(object='') -> str\n",
      "str(bytes_or_buffer[, encoding[, errors]]) -> str\n",
      "\n",
      "Create a new string object from the given object. If encoding or\n",
      "errors is specified, then the object must expose a data buffer\n",
      "that will be decoded using the given encoding and error handler.\n",
      "Otherwise, returns the result of object.__str__() (if defined)\n",
      "or repr(object).\n",
      "encoding defaults to sys.getdefaultencoding().\n",
      "errors defaults to 'strict'.\n"
     ]
    }
   ],
   "source": [
    "print(str.__doc__)"
   ]
  },
  {
   "cell_type": "code",
   "execution_count": null,
   "metadata": {},
   "outputs": [],
   "source": []
  }
 ],
 "metadata": {
  "kernelspec": {
   "display_name": "base",
   "language": "python",
   "name": "python3"
  },
  "language_info": {
   "codemirror_mode": {
    "name": "ipython",
    "version": 3
   },
   "file_extension": ".py",
   "mimetype": "text/x-python",
   "name": "python",
   "nbconvert_exporter": "python",
   "pygments_lexer": "ipython3",
   "version": "3.10.13"
  }
 },
 "nbformat": 4,
 "nbformat_minor": 2
}
