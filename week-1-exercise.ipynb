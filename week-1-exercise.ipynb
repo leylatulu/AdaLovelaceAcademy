{
 "cells": [
  {
   "cell_type": "markdown",
   "metadata": {},
   "source": [
    "## **Week 1**"
   ]
  },
  {
   "cell_type": "markdown",
   "metadata": {},
   "source": [
    "### **Exercise 1:**\n",
    "\n",
    "Write a function that receives a list as parameter and return how many elements it has; if it doesn't have any element return an error."
   ]
  },
  {
   "cell_type": "markdown",
   "metadata": {},
   "source": [
    "#### **Solution 1:**"
   ]
  },
  {
   "cell_type": "code",
   "execution_count": 6,
   "metadata": {},
   "outputs": [
    {
     "data": {
      "text/plain": [
       "10"
      ]
     },
     "execution_count": 6,
     "metadata": {},
     "output_type": "execute_result"
    }
   ],
   "source": [
    "def find_element_number(my_list):\n",
    "    if not my_list:\n",
    "        raise ValueError(\"you list is empty!\")\n",
    "    else:\n",
    "        element = len(my_list)\n",
    "        return element\n",
    "\n",
    "find_element_number(list(input(\"Please enter space-seperated a list of elements: \")))"
   ]
  },
  {
   "cell_type": "code",
   "execution_count": null,
   "metadata": {},
   "outputs": [],
   "source": [
    "# Another solution\n",
    "def list_size(my_list):\n",
    "    size = len(my_list)\n",
    "    if size > 0:\n",
    "        return f\"List have {size} elements.\"\n",
    "    return \"Error! No elements.\"\n",
    "\n",
    "empty_list = []\n",
    "list_size(empty_list)"
   ]
  },
  {
   "cell_type": "markdown",
   "metadata": {},
   "source": [
    "### **Exercise 2:**\n",
    "\n",
    "Write a function that receives a string as parameter and return the number of each character in it."
   ]
  },
  {
   "cell_type": "code",
   "execution_count": 7,
   "metadata": {},
   "outputs": [
    {
     "name": "stdout",
     "output_type": "stream",
     "text": [
      "The number of characters: Counter({'j': 2, 'k': 2, 'f': 2, 'h': 1, 'd': 1})\n"
     ]
    }
   ],
   "source": [
    "from collections import Counter\n",
    "\n",
    "def count_characters_with_counter(string):\n",
    "    chars = Counter(string)\n",
    "    return chars\n",
    "\n",
    "my_string = input(\"Please enter a string: \")\n",
    "print(\"The number of characters:\", count_characters_with_counter(my_string))"
   ]
  },
  {
   "cell_type": "code",
   "execution_count": null,
   "metadata": {},
   "outputs": [],
   "source": [
    "from collections import Counter\n",
    "\n",
    "def count_characters_with_counter(string):\n",
    "    chars = Counter(string). most_common(len(string))\n",
    "    return chars\n",
    "\n",
    "my_string = \"This is a string.\""
   ]
  }
 ],
 "metadata": {
  "kernelspec": {
   "display_name": "Python 3",
   "language": "python",
   "name": "python3"
  },
  "language_info": {
   "codemirror_mode": {
    "name": "ipython",
    "version": 3
   },
   "file_extension": ".py",
   "mimetype": "text/x-python",
   "name": "python",
   "nbconvert_exporter": "python",
   "pygments_lexer": "ipython3",
   "version": "3.10.13"
  }
 },
 "nbformat": 4,
 "nbformat_minor": 2
}
